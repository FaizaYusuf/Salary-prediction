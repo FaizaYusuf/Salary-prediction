{
 "cells": [
  {
   "cell_type": "markdown",
   "id": "ea4f71cc-3255-4283-93c1-da83a00d1b0d",
   "metadata": {
    "id": "ea4f71cc-3255-4283-93c1-da83a00d1b0d"
   },
   "source": [
    "# Assignment 7 (Week 7)\n",
    "\n",
    ">**Note**: \n",
    "\n",
    "```\n",
    "- Late submissions are penalized.\n",
    "- Only GitHub submissions are acceptable.\n",
    "```\n",
    "\n",
    "## Name: Enter Your Name\n",
    "\n",
    "<br>\n",
    "\n",
    "## Please show and display ALL your calculations and results.\n",
    "> Remember to read the **`instructions`** carefully."
   ]
  },
  {
   "cell_type": "code",
   "execution_count": 1,
   "id": "7f659c96-b085-483c-960c-16b53a0312e3",
   "metadata": {
    "ExecuteTime": {
     "end_time": "2023-04-07T23:17:06.992777Z",
     "start_time": "2023-04-07T23:17:05.855029Z"
    },
    "id": "7f659c96-b085-483c-960c-16b53a0312e3"
   },
   "outputs": [],
   "source": [
    "# Built-in library\n",
    "import itertools\n",
    "\n",
    "# Standard imports\n",
    "import numpy as np\n",
    "import pandas as pd\n",
    "\n",
    "\n",
    "# pandas settings\n",
    "pd.options.display.max_rows = 1_000\n",
    "pd.options.display.max_columns = 1_000\n",
    "pd.options.display.max_colwidth = 1_000\n",
    "\n",
    "from typing import Union\n",
    "\n",
    "\n",
    "# Black code formatter (Optional)\n",
    "#%load_ext nb_black"
   ]
  },
  {
   "cell_type": "code",
   "execution_count": 2,
   "id": "ffed0267-e8b6-4bb2-ba37-34771056f387",
   "metadata": {
    "ExecuteTime": {
     "end_time": "2023-04-07T23:17:09.693246Z",
     "start_time": "2023-04-07T23:17:06.992777Z"
    },
    "id": "ffed0267-e8b6-4bb2-ba37-34771056f387"
   },
   "outputs": [],
   "source": [
    "import matplotlib.pyplot as plt\n",
    "import seaborn as sns"
   ]
  },
  {
   "cell_type": "code",
   "execution_count": null,
   "id": "10d6ec1e-c5a9-4fc3-b00e-aa9f3966e96f",
   "metadata": {
    "id": "10d6ec1e-c5a9-4fc3-b00e-aa9f3966e96f"
   },
   "outputs": [],
   "source": []
  },
  {
   "cell_type": "markdown",
   "id": "172f8480-1c1d-46b3-a205-87f96b140b69",
   "metadata": {
    "id": "172f8480-1c1d-46b3-a205-87f96b140b69"
   },
   "source": [
    "> The data can be found [here](https://drive.google.com/file/d/1_c3KA14xQC02K0QZ4cpi1emjdz0rqHzb/view?usp=share_link).\n",
    "\n",
    "### Data Dictionary\n",
    "\n",
    "```\n",
    "- Age: continuous.\n",
    "\n",
    "- Workclass: Private, Self-emp-not-inc, Self-emp-inc, Federal-gov, Local-gov, State-gov, Without-pay, Never-worked.\n",
    "\n",
    "- Final_weight: continuous.\n",
    "\n",
    "- Education: Bachelors, Some-college, 11th, HS-grad, Prof-school, Assoc-acdm, Assoc-voc, 9th, 7th-8th, 12th, - Masters, 1st-4th, 10th, Doctorate, 5th-6th, Preschool.\n",
    "\n",
    "- Education_num: continuous.\n",
    "\n",
    "- Marital_status: Married-civ-spouse, Divorced, Never-married, Separated, Widowed, Married-spouse-absent, - Married-AF-spouse.\n",
    "\n",
    "- Occupation: Tech-support, Craft-repair, Other-service, Sales, Exec-managerial, Prof-specialty, Handlers-cleaners, Machine-op-inspct, Adm-clerical, Farming-fishing, Transport-moving, Priv-house-serv, Protective-serv, Armed-Forces.\n",
    "\n",
    "- Relationship: Wife, Own-child, Husband, Not-in-family, Other-relative, Unmarried.\n",
    "\n",
    "- Race: White, Asian-Pac-Islander, Amer-Indian-Eskimo, Other, Black.\n",
    "\n",
    "- Genger: Female, Male.\n",
    "\n",
    "- Capital_gain: continuous.\n",
    "\n",
    "- Capital_loss: continuous.\n",
    "\n",
    "- Hours_per_week: continuous.\n",
    "\n",
    "- Country: United-States, Cambodia, England, Puerto-Rico, Canada, Germany, Outlying-US(Guam-USVI-etc), India, Japan, Greece, South, China, Cuba, Iran, Honduras, Philippines, Italy, Poland, Jamaica, Vietnam, Mexico, Portugal, Ireland, France, Dominican-Republic, Laos, Ecuador, Taiwan, Haiti, Columbia, Hungary, Guatemala, Nicaragua, Scotland, Thailand, Yugoslavia, El-Salvador, Trinadad&Tobago, Peru, Hong, Holand-Netherlands.\n",
    "\n",
    "- Salary: \n",
    "```\n",
    "\n",
    "### Objective\n",
    "\n",
    "```\n",
    "Predict whether a person makes over 50K a year.\n",
    "\n",
    "```"
   ]
  },
  {
   "cell_type": "markdown",
   "id": "35397296-515a-40b0-a7a7-04ddfdff2c4b",
   "metadata": {
    "id": "35397296-515a-40b0-a7a7-04ddfdff2c4b"
   },
   "source": [
    "\n",
    "\n",
    "###  Qs 1. Build a machine learning model that predicts the salary.\n",
    "\n",
    "###  Qs 2. Evaluate the performance of your model using at least three (3) performance metrics.\n",
    "\n",
    "<hr>\n",
    "\n",
    "## Note: \n",
    "\n",
    "- The assignment **should** be submitted through a `public` GitHub repository."
   ]
  },
  {
   "cell_type": "code",
   "execution_count": 3,
   "id": "a0038bcd-5c4a-44f9-abe7-e3887fec07aa",
   "metadata": {
    "ExecuteTime": {
     "end_time": "2023-04-07T23:17:11.104645Z",
     "start_time": "2023-04-07T23:17:09.693246Z"
    },
    "id": "a0038bcd-5c4a-44f9-abe7-e3887fec07aa"
   },
   "outputs": [
    {
     "ename": "FileNotFoundError",
     "evalue": "[Errno 2] No such file or directory: 'data/salary.csv'",
     "output_type": "error",
     "traceback": [
      "\u001b[1;31m---------------------------------------------------------------------------\u001b[0m",
      "\u001b[1;31mFileNotFoundError\u001b[0m                         Traceback (most recent call last)",
      "Input \u001b[1;32mIn [3]\u001b[0m, in \u001b[0;36m<cell line: 2>\u001b[1;34m()\u001b[0m\n\u001b[0;32m      1\u001b[0m \u001b[38;5;66;03m# get the data\u001b[39;00m\n\u001b[1;32m----> 2\u001b[0m df \u001b[38;5;241m=\u001b[39m \u001b[43mpd\u001b[49m\u001b[38;5;241;43m.\u001b[39;49m\u001b[43mread_csv\u001b[49m\u001b[43m(\u001b[49m\u001b[38;5;124;43m\"\u001b[39;49m\u001b[38;5;124;43mdata/salary.csv\u001b[39;49m\u001b[38;5;124;43m\"\u001b[39;49m\u001b[43m)\u001b[49m\n\u001b[0;32m      3\u001b[0m df\u001b[38;5;241m.\u001b[39mhead()\n",
      "File \u001b[1;32m~\\anaconda3\\lib\\site-packages\\pandas\\util\\_decorators.py:311\u001b[0m, in \u001b[0;36mdeprecate_nonkeyword_arguments.<locals>.decorate.<locals>.wrapper\u001b[1;34m(*args, **kwargs)\u001b[0m\n\u001b[0;32m    305\u001b[0m \u001b[38;5;28;01mif\u001b[39;00m \u001b[38;5;28mlen\u001b[39m(args) \u001b[38;5;241m>\u001b[39m num_allow_args:\n\u001b[0;32m    306\u001b[0m     warnings\u001b[38;5;241m.\u001b[39mwarn(\n\u001b[0;32m    307\u001b[0m         msg\u001b[38;5;241m.\u001b[39mformat(arguments\u001b[38;5;241m=\u001b[39marguments),\n\u001b[0;32m    308\u001b[0m         \u001b[38;5;167;01mFutureWarning\u001b[39;00m,\n\u001b[0;32m    309\u001b[0m         stacklevel\u001b[38;5;241m=\u001b[39mstacklevel,\n\u001b[0;32m    310\u001b[0m     )\n\u001b[1;32m--> 311\u001b[0m \u001b[38;5;28;01mreturn\u001b[39;00m func(\u001b[38;5;241m*\u001b[39margs, \u001b[38;5;241m*\u001b[39m\u001b[38;5;241m*\u001b[39mkwargs)\n",
      "File \u001b[1;32m~\\anaconda3\\lib\\site-packages\\pandas\\io\\parsers\\readers.py:678\u001b[0m, in \u001b[0;36mread_csv\u001b[1;34m(filepath_or_buffer, sep, delimiter, header, names, index_col, usecols, squeeze, prefix, mangle_dupe_cols, dtype, engine, converters, true_values, false_values, skipinitialspace, skiprows, skipfooter, nrows, na_values, keep_default_na, na_filter, verbose, skip_blank_lines, parse_dates, infer_datetime_format, keep_date_col, date_parser, dayfirst, cache_dates, iterator, chunksize, compression, thousands, decimal, lineterminator, quotechar, quoting, doublequote, escapechar, comment, encoding, encoding_errors, dialect, error_bad_lines, warn_bad_lines, on_bad_lines, delim_whitespace, low_memory, memory_map, float_precision, storage_options)\u001b[0m\n\u001b[0;32m    663\u001b[0m kwds_defaults \u001b[38;5;241m=\u001b[39m _refine_defaults_read(\n\u001b[0;32m    664\u001b[0m     dialect,\n\u001b[0;32m    665\u001b[0m     delimiter,\n\u001b[1;32m   (...)\u001b[0m\n\u001b[0;32m    674\u001b[0m     defaults\u001b[38;5;241m=\u001b[39m{\u001b[38;5;124m\"\u001b[39m\u001b[38;5;124mdelimiter\u001b[39m\u001b[38;5;124m\"\u001b[39m: \u001b[38;5;124m\"\u001b[39m\u001b[38;5;124m,\u001b[39m\u001b[38;5;124m\"\u001b[39m},\n\u001b[0;32m    675\u001b[0m )\n\u001b[0;32m    676\u001b[0m kwds\u001b[38;5;241m.\u001b[39mupdate(kwds_defaults)\n\u001b[1;32m--> 678\u001b[0m \u001b[38;5;28;01mreturn\u001b[39;00m \u001b[43m_read\u001b[49m\u001b[43m(\u001b[49m\u001b[43mfilepath_or_buffer\u001b[49m\u001b[43m,\u001b[49m\u001b[43m \u001b[49m\u001b[43mkwds\u001b[49m\u001b[43m)\u001b[49m\n",
      "File \u001b[1;32m~\\anaconda3\\lib\\site-packages\\pandas\\io\\parsers\\readers.py:575\u001b[0m, in \u001b[0;36m_read\u001b[1;34m(filepath_or_buffer, kwds)\u001b[0m\n\u001b[0;32m    572\u001b[0m _validate_names(kwds\u001b[38;5;241m.\u001b[39mget(\u001b[38;5;124m\"\u001b[39m\u001b[38;5;124mnames\u001b[39m\u001b[38;5;124m\"\u001b[39m, \u001b[38;5;28;01mNone\u001b[39;00m))\n\u001b[0;32m    574\u001b[0m \u001b[38;5;66;03m# Create the parser.\u001b[39;00m\n\u001b[1;32m--> 575\u001b[0m parser \u001b[38;5;241m=\u001b[39m TextFileReader(filepath_or_buffer, \u001b[38;5;241m*\u001b[39m\u001b[38;5;241m*\u001b[39mkwds)\n\u001b[0;32m    577\u001b[0m \u001b[38;5;28;01mif\u001b[39;00m chunksize \u001b[38;5;129;01mor\u001b[39;00m iterator:\n\u001b[0;32m    578\u001b[0m     \u001b[38;5;28;01mreturn\u001b[39;00m parser\n",
      "File \u001b[1;32m~\\anaconda3\\lib\\site-packages\\pandas\\io\\parsers\\readers.py:932\u001b[0m, in \u001b[0;36mTextFileReader.__init__\u001b[1;34m(self, f, engine, **kwds)\u001b[0m\n\u001b[0;32m    929\u001b[0m     \u001b[38;5;28mself\u001b[39m\u001b[38;5;241m.\u001b[39moptions[\u001b[38;5;124m\"\u001b[39m\u001b[38;5;124mhas_index_names\u001b[39m\u001b[38;5;124m\"\u001b[39m] \u001b[38;5;241m=\u001b[39m kwds[\u001b[38;5;124m\"\u001b[39m\u001b[38;5;124mhas_index_names\u001b[39m\u001b[38;5;124m\"\u001b[39m]\n\u001b[0;32m    931\u001b[0m \u001b[38;5;28mself\u001b[39m\u001b[38;5;241m.\u001b[39mhandles: IOHandles \u001b[38;5;241m|\u001b[39m \u001b[38;5;28;01mNone\u001b[39;00m \u001b[38;5;241m=\u001b[39m \u001b[38;5;28;01mNone\u001b[39;00m\n\u001b[1;32m--> 932\u001b[0m \u001b[38;5;28mself\u001b[39m\u001b[38;5;241m.\u001b[39m_engine \u001b[38;5;241m=\u001b[39m \u001b[38;5;28;43mself\u001b[39;49m\u001b[38;5;241;43m.\u001b[39;49m\u001b[43m_make_engine\u001b[49m\u001b[43m(\u001b[49m\u001b[43mf\u001b[49m\u001b[43m,\u001b[49m\u001b[43m \u001b[49m\u001b[38;5;28;43mself\u001b[39;49m\u001b[38;5;241;43m.\u001b[39;49m\u001b[43mengine\u001b[49m\u001b[43m)\u001b[49m\n",
      "File \u001b[1;32m~\\anaconda3\\lib\\site-packages\\pandas\\io\\parsers\\readers.py:1216\u001b[0m, in \u001b[0;36mTextFileReader._make_engine\u001b[1;34m(self, f, engine)\u001b[0m\n\u001b[0;32m   1212\u001b[0m     mode \u001b[38;5;241m=\u001b[39m \u001b[38;5;124m\"\u001b[39m\u001b[38;5;124mrb\u001b[39m\u001b[38;5;124m\"\u001b[39m\n\u001b[0;32m   1213\u001b[0m \u001b[38;5;66;03m# error: No overload variant of \"get_handle\" matches argument types\u001b[39;00m\n\u001b[0;32m   1214\u001b[0m \u001b[38;5;66;03m# \"Union[str, PathLike[str], ReadCsvBuffer[bytes], ReadCsvBuffer[str]]\"\u001b[39;00m\n\u001b[0;32m   1215\u001b[0m \u001b[38;5;66;03m# , \"str\", \"bool\", \"Any\", \"Any\", \"Any\", \"Any\", \"Any\"\u001b[39;00m\n\u001b[1;32m-> 1216\u001b[0m \u001b[38;5;28mself\u001b[39m\u001b[38;5;241m.\u001b[39mhandles \u001b[38;5;241m=\u001b[39m \u001b[43mget_handle\u001b[49m\u001b[43m(\u001b[49m\u001b[43m  \u001b[49m\u001b[38;5;66;43;03m# type: ignore[call-overload]\u001b[39;49;00m\n\u001b[0;32m   1217\u001b[0m \u001b[43m    \u001b[49m\u001b[43mf\u001b[49m\u001b[43m,\u001b[49m\n\u001b[0;32m   1218\u001b[0m \u001b[43m    \u001b[49m\u001b[43mmode\u001b[49m\u001b[43m,\u001b[49m\n\u001b[0;32m   1219\u001b[0m \u001b[43m    \u001b[49m\u001b[43mencoding\u001b[49m\u001b[38;5;241;43m=\u001b[39;49m\u001b[38;5;28;43mself\u001b[39;49m\u001b[38;5;241;43m.\u001b[39;49m\u001b[43moptions\u001b[49m\u001b[38;5;241;43m.\u001b[39;49m\u001b[43mget\u001b[49m\u001b[43m(\u001b[49m\u001b[38;5;124;43m\"\u001b[39;49m\u001b[38;5;124;43mencoding\u001b[39;49m\u001b[38;5;124;43m\"\u001b[39;49m\u001b[43m,\u001b[49m\u001b[43m \u001b[49m\u001b[38;5;28;43;01mNone\u001b[39;49;00m\u001b[43m)\u001b[49m\u001b[43m,\u001b[49m\n\u001b[0;32m   1220\u001b[0m \u001b[43m    \u001b[49m\u001b[43mcompression\u001b[49m\u001b[38;5;241;43m=\u001b[39;49m\u001b[38;5;28;43mself\u001b[39;49m\u001b[38;5;241;43m.\u001b[39;49m\u001b[43moptions\u001b[49m\u001b[38;5;241;43m.\u001b[39;49m\u001b[43mget\u001b[49m\u001b[43m(\u001b[49m\u001b[38;5;124;43m\"\u001b[39;49m\u001b[38;5;124;43mcompression\u001b[39;49m\u001b[38;5;124;43m\"\u001b[39;49m\u001b[43m,\u001b[49m\u001b[43m \u001b[49m\u001b[38;5;28;43;01mNone\u001b[39;49;00m\u001b[43m)\u001b[49m\u001b[43m,\u001b[49m\n\u001b[0;32m   1221\u001b[0m \u001b[43m    \u001b[49m\u001b[43mmemory_map\u001b[49m\u001b[38;5;241;43m=\u001b[39;49m\u001b[38;5;28;43mself\u001b[39;49m\u001b[38;5;241;43m.\u001b[39;49m\u001b[43moptions\u001b[49m\u001b[38;5;241;43m.\u001b[39;49m\u001b[43mget\u001b[49m\u001b[43m(\u001b[49m\u001b[38;5;124;43m\"\u001b[39;49m\u001b[38;5;124;43mmemory_map\u001b[39;49m\u001b[38;5;124;43m\"\u001b[39;49m\u001b[43m,\u001b[49m\u001b[43m \u001b[49m\u001b[38;5;28;43;01mFalse\u001b[39;49;00m\u001b[43m)\u001b[49m\u001b[43m,\u001b[49m\n\u001b[0;32m   1222\u001b[0m \u001b[43m    \u001b[49m\u001b[43mis_text\u001b[49m\u001b[38;5;241;43m=\u001b[39;49m\u001b[43mis_text\u001b[49m\u001b[43m,\u001b[49m\n\u001b[0;32m   1223\u001b[0m \u001b[43m    \u001b[49m\u001b[43merrors\u001b[49m\u001b[38;5;241;43m=\u001b[39;49m\u001b[38;5;28;43mself\u001b[39;49m\u001b[38;5;241;43m.\u001b[39;49m\u001b[43moptions\u001b[49m\u001b[38;5;241;43m.\u001b[39;49m\u001b[43mget\u001b[49m\u001b[43m(\u001b[49m\u001b[38;5;124;43m\"\u001b[39;49m\u001b[38;5;124;43mencoding_errors\u001b[39;49m\u001b[38;5;124;43m\"\u001b[39;49m\u001b[43m,\u001b[49m\u001b[43m \u001b[49m\u001b[38;5;124;43m\"\u001b[39;49m\u001b[38;5;124;43mstrict\u001b[39;49m\u001b[38;5;124;43m\"\u001b[39;49m\u001b[43m)\u001b[49m\u001b[43m,\u001b[49m\n\u001b[0;32m   1224\u001b[0m \u001b[43m    \u001b[49m\u001b[43mstorage_options\u001b[49m\u001b[38;5;241;43m=\u001b[39;49m\u001b[38;5;28;43mself\u001b[39;49m\u001b[38;5;241;43m.\u001b[39;49m\u001b[43moptions\u001b[49m\u001b[38;5;241;43m.\u001b[39;49m\u001b[43mget\u001b[49m\u001b[43m(\u001b[49m\u001b[38;5;124;43m\"\u001b[39;49m\u001b[38;5;124;43mstorage_options\u001b[39;49m\u001b[38;5;124;43m\"\u001b[39;49m\u001b[43m,\u001b[49m\u001b[43m \u001b[49m\u001b[38;5;28;43;01mNone\u001b[39;49;00m\u001b[43m)\u001b[49m\u001b[43m,\u001b[49m\n\u001b[0;32m   1225\u001b[0m \u001b[43m\u001b[49m\u001b[43m)\u001b[49m\n\u001b[0;32m   1226\u001b[0m \u001b[38;5;28;01massert\u001b[39;00m \u001b[38;5;28mself\u001b[39m\u001b[38;5;241m.\u001b[39mhandles \u001b[38;5;129;01mis\u001b[39;00m \u001b[38;5;129;01mnot\u001b[39;00m \u001b[38;5;28;01mNone\u001b[39;00m\n\u001b[0;32m   1227\u001b[0m f \u001b[38;5;241m=\u001b[39m \u001b[38;5;28mself\u001b[39m\u001b[38;5;241m.\u001b[39mhandles\u001b[38;5;241m.\u001b[39mhandle\n",
      "File \u001b[1;32m~\\anaconda3\\lib\\site-packages\\pandas\\io\\common.py:786\u001b[0m, in \u001b[0;36mget_handle\u001b[1;34m(path_or_buf, mode, encoding, compression, memory_map, is_text, errors, storage_options)\u001b[0m\n\u001b[0;32m    781\u001b[0m \u001b[38;5;28;01melif\u001b[39;00m \u001b[38;5;28misinstance\u001b[39m(handle, \u001b[38;5;28mstr\u001b[39m):\n\u001b[0;32m    782\u001b[0m     \u001b[38;5;66;03m# Check whether the filename is to be opened in binary mode.\u001b[39;00m\n\u001b[0;32m    783\u001b[0m     \u001b[38;5;66;03m# Binary mode does not support 'encoding' and 'newline'.\u001b[39;00m\n\u001b[0;32m    784\u001b[0m     \u001b[38;5;28;01mif\u001b[39;00m ioargs\u001b[38;5;241m.\u001b[39mencoding \u001b[38;5;129;01mand\u001b[39;00m \u001b[38;5;124m\"\u001b[39m\u001b[38;5;124mb\u001b[39m\u001b[38;5;124m\"\u001b[39m \u001b[38;5;129;01mnot\u001b[39;00m \u001b[38;5;129;01min\u001b[39;00m ioargs\u001b[38;5;241m.\u001b[39mmode:\n\u001b[0;32m    785\u001b[0m         \u001b[38;5;66;03m# Encoding\u001b[39;00m\n\u001b[1;32m--> 786\u001b[0m         handle \u001b[38;5;241m=\u001b[39m \u001b[38;5;28;43mopen\u001b[39;49m\u001b[43m(\u001b[49m\n\u001b[0;32m    787\u001b[0m \u001b[43m            \u001b[49m\u001b[43mhandle\u001b[49m\u001b[43m,\u001b[49m\n\u001b[0;32m    788\u001b[0m \u001b[43m            \u001b[49m\u001b[43mioargs\u001b[49m\u001b[38;5;241;43m.\u001b[39;49m\u001b[43mmode\u001b[49m\u001b[43m,\u001b[49m\n\u001b[0;32m    789\u001b[0m \u001b[43m            \u001b[49m\u001b[43mencoding\u001b[49m\u001b[38;5;241;43m=\u001b[39;49m\u001b[43mioargs\u001b[49m\u001b[38;5;241;43m.\u001b[39;49m\u001b[43mencoding\u001b[49m\u001b[43m,\u001b[49m\n\u001b[0;32m    790\u001b[0m \u001b[43m            \u001b[49m\u001b[43merrors\u001b[49m\u001b[38;5;241;43m=\u001b[39;49m\u001b[43merrors\u001b[49m\u001b[43m,\u001b[49m\n\u001b[0;32m    791\u001b[0m \u001b[43m            \u001b[49m\u001b[43mnewline\u001b[49m\u001b[38;5;241;43m=\u001b[39;49m\u001b[38;5;124;43m\"\u001b[39;49m\u001b[38;5;124;43m\"\u001b[39;49m\u001b[43m,\u001b[49m\n\u001b[0;32m    792\u001b[0m \u001b[43m        \u001b[49m\u001b[43m)\u001b[49m\n\u001b[0;32m    793\u001b[0m     \u001b[38;5;28;01melse\u001b[39;00m:\n\u001b[0;32m    794\u001b[0m         \u001b[38;5;66;03m# Binary mode\u001b[39;00m\n\u001b[0;32m    795\u001b[0m         handle \u001b[38;5;241m=\u001b[39m \u001b[38;5;28mopen\u001b[39m(handle, ioargs\u001b[38;5;241m.\u001b[39mmode)\n",
      "\u001b[1;31mFileNotFoundError\u001b[0m: [Errno 2] No such file or directory: 'data/salary.csv'"
     ]
    }
   ],
   "source": [
    "# get the data\n",
    "df = pd.read_csv(\"salary.csv\")\n",
    "df.head()"
   ]
  },
  {
   "cell_type": "code",
   "execution_count": null,
   "id": "0785373f",
   "metadata": {
    "ExecuteTime": {
     "end_time": "2023-04-07T23:17:11.108194Z",
     "start_time": "2023-04-07T23:17:11.108194Z"
    },
    "scrolled": true
   },
   "outputs": [],
   "source": [
    "df[df[\"Education\"] == \"Bachelors\"]"
   ]
  },
  {
   "cell_type": "code",
   "execution_count": null,
   "id": "2e0d3a49-67a1-433d-a7f8-6ff80d5ef799",
   "metadata": {
    "ExecuteTime": {
     "end_time": "2023-04-07T23:17:11.116192Z",
     "start_time": "2023-04-07T23:17:11.116192Z"
    },
    "id": "2e0d3a49-67a1-433d-a7f8-6ff80d5ef799"
   },
   "outputs": [],
   "source": [
    "# check the shape\n",
    "df.shape"
   ]
  },
  {
   "cell_type": "code",
   "execution_count": null,
   "id": "433bc74d-6a56-4f77-90be-7d848324ec94",
   "metadata": {
    "ExecuteTime": {
     "end_time": "2023-04-07T23:17:11.124193Z",
     "start_time": "2023-04-07T23:17:11.124193Z"
    },
    "id": "433bc74d-6a56-4f77-90be-7d848324ec94"
   },
   "outputs": [],
   "source": [
    "# decription of the data\n",
    "df.describe()"
   ]
  },
  {
   "cell_type": "code",
   "execution_count": null,
   "id": "8d97d88b-8965-4006-9778-5a49bd519fbe",
   "metadata": {
    "ExecuteTime": {
     "end_time": "2023-04-07T23:17:11.124193Z",
     "start_time": "2023-04-07T23:17:11.124193Z"
    },
    "id": "8d97d88b-8965-4006-9778-5a49bd519fbe"
   },
   "outputs": [],
   "source": [
    "# check for duplicate values\n",
    "df.duplicated().sum()"
   ]
  },
  {
   "cell_type": "code",
   "execution_count": null,
   "id": "424a5339-185b-4cc1-ba07-e5e0c9d31935",
   "metadata": {
    "ExecuteTime": {
     "end_time": "2023-04-07T23:17:11.124193Z",
     "start_time": "2023-04-07T23:17:11.124193Z"
    },
    "id": "424a5339-185b-4cc1-ba07-e5e0c9d31935"
   },
   "outputs": [],
   "source": [
    "(df.duplicated().sum() / df.shape[0]) * 100"
   ]
  },
  {
   "cell_type": "markdown",
   "id": "f268f767",
   "metadata": {
    "id": "509fe1b2-5375-4109-ab4e-1972bcedb43a"
   },
   "source": [
    "#### Comment\n",
    "About 0.07 percent of the observations are duplicate, I will drop the rows"
   ]
  },
  {
   "cell_type": "code",
   "execution_count": null,
   "id": "51c4c104-829d-45a3-9663-e3538da7b27d",
   "metadata": {
    "ExecuteTime": {
     "end_time": "2023-04-07T23:17:11.132190Z",
     "start_time": "2023-04-07T23:17:11.132190Z"
    },
    "id": "51c4c104-829d-45a3-9663-e3538da7b27d"
   },
   "outputs": [],
   "source": [
    "# dripping the duplicate values\n",
    "df.drop_duplicates(inplace=True)"
   ]
  },
  {
   "cell_type": "code",
   "execution_count": null,
   "id": "e50c5cef",
   "metadata": {
    "ExecuteTime": {
     "end_time": "2023-04-07T23:17:11.132190Z",
     "start_time": "2023-04-07T23:17:11.132190Z"
    }
   },
   "outputs": [],
   "source": [
    "# the shape after dropping duplcate\n",
    "df.shape"
   ]
  },
  {
   "cell_type": "code",
   "execution_count": null,
   "id": "1e3c2c57",
   "metadata": {
    "ExecuteTime": {
     "end_time": "2023-04-07T23:17:11.132190Z",
     "start_time": "2023-04-07T23:17:11.132190Z"
    },
    "scrolled": true
   },
   "outputs": [],
   "source": [
    "# check for emty cells\n",
    "df.isnull().sum()"
   ]
  },
  {
   "cell_type": "code",
   "execution_count": null,
   "id": "b646c389",
   "metadata": {
    "ExecuteTime": {
     "end_time": "2023-04-07T23:17:11.140188Z",
     "start_time": "2023-04-07T23:17:11.140188Z"
    }
   },
   "outputs": [],
   "source": [
    "# checking the data types\n",
    "df.info()"
   ]
  },
  {
   "cell_type": "code",
   "execution_count": null,
   "id": "9e00cd64",
   "metadata": {
    "ExecuteTime": {
     "end_time": "2023-04-07T23:17:11.140188Z",
     "start_time": "2023-04-07T23:17:11.140188Z"
    }
   },
   "outputs": [],
   "source": [
    "# dividing the data into numerical and categorical variable\n",
    "cat_data, num_data = df.select_dtypes(include=\"O\"), df.select_dtypes(exclude=\"O\")"
   ]
  },
  {
   "cell_type": "markdown",
   "id": "a85eed34",
   "metadata": {},
   "source": [
    "### Exploring the numerical columns"
   ]
  },
  {
   "cell_type": "code",
   "execution_count": null,
   "id": "0d9131c4",
   "metadata": {
    "ExecuteTime": {
     "end_time": "2023-04-07T23:17:11.140188Z",
     "start_time": "2023-04-07T23:17:11.140188Z"
    }
   },
   "outputs": [],
   "source": [
    "num_data.head()"
   ]
  },
  {
   "cell_type": "code",
   "execution_count": null,
   "id": "c9779077",
   "metadata": {
    "ExecuteTime": {
     "end_time": "2023-04-07T23:17:11.148188Z",
     "start_time": "2023-04-07T23:17:11.148188Z"
    }
   },
   "outputs": [],
   "source": [
    "# checking for the number of unique\n",
    "for i in num_data.columns:\n",
    "    print({i: num_data[i].nunique()})"
   ]
  },
  {
   "cell_type": "code",
   "execution_count": null,
   "id": "fd59c97d",
   "metadata": {
    "ExecuteTime": {
     "end_time": "2023-04-07T23:17:11.148188Z",
     "start_time": "2023-04-07T23:17:11.148188Z"
    }
   },
   "outputs": [],
   "source": [
    "# calling the ggplot style for the plotting style\n",
    "plt.style.use(\"ggplot\")"
   ]
  },
  {
   "cell_type": "code",
   "execution_count": null,
   "id": "cbc1829c",
   "metadata": {
    "ExecuteTime": {
     "end_time": "2023-04-07T23:17:11.148188Z",
     "start_time": "2023-04-07T23:17:11.148188Z"
    }
   },
   "outputs": [],
   "source": [
    "nrows, ncols = 3, 2\n",
    "figsize = (20, 20)\n",
    "fig, axs = plt.subplots(nrows, ncols, figsize=figsize)\n",
    "feat = num_data.columns\n",
    "for idx, val in enumerate(feat):\n",
    "    if nrows > 1:\n",
    "        ax = axs[(idx // ncols), (idx % ncols)]\n",
    "    else:\n",
    "        ax = axs[idx]\n",
    "\n",
    "    sns.histplot(x=val, data=num_data, ax=ax, kde=True)\n",
    "    ax.set_title(f\"Distribution of {val}\", size=20)\n",
    "    plt.subplots_adjust(hspace=0.5)"
   ]
  },
  {
   "cell_type": "code",
   "execution_count": null,
   "id": "2644748b",
   "metadata": {},
   "outputs": [],
   "source": []
  },
  {
   "cell_type": "code",
   "execution_count": null,
   "id": "6e65bbd3",
   "metadata": {},
   "outputs": [],
   "source": []
  },
  {
   "cell_type": "markdown",
   "id": "8fb89125",
   "metadata": {},
   "source": [
    "### Comment\n",
    "* Education num variable looks descrete and has rare label\n",
    "* Both The final weight and Education variables are not normally ditributed"
   ]
  },
  {
   "cell_type": "code",
   "execution_count": null,
   "id": "90bc0396",
   "metadata": {
    "ExecuteTime": {
     "end_time": "2023-04-07T23:17:11.156187Z",
     "start_time": "2023-04-07T23:17:11.156187Z"
    }
   },
   "outputs": [],
   "source": [
    "nrows, ncols = 3, 2\n",
    "figsize = (20, 15)\n",
    "fig, axs = plt.subplots(nrows, ncols, figsize=figsize)\n",
    "feat = num_data.columns\n",
    "for idx, val in enumerate(feat):\n",
    "    if nrows > 1:\n",
    "        ax = axs[(idx // ncols), (idx % ncols)]\n",
    "    else:\n",
    "        ax = axs[idx]\n",
    "\n",
    "    sns.boxplot(x=val, data=num_data, ax=ax)\n",
    "    ax.set_title(f\"Distribution of {val}\")\n",
    "    plt.subplots_adjust(hspace=0.5)"
   ]
  },
  {
   "cell_type": "markdown",
   "id": "47661fc3",
   "metadata": {},
   "source": [
    "### Comment\n",
    "* There are too many outliers in final weight, and hours per week variables\n",
    "* I will descritize the age and final weight, variables and hours per week.\n",
    "* I will drop capital gain and capital loss because ideally they are not related to salary prediction \n",
    "* For the Education_num, i will combine 2 to 6 as single label, and 12 to 18 to single label, i will leave 9 as it is \n"
   ]
  },
  {
   "cell_type": "code",
   "execution_count": null,
   "id": "c9dd3916",
   "metadata": {},
   "outputs": [],
   "source": []
  },
  {
   "cell_type": "markdown",
   "id": "d1778e83",
   "metadata": {},
   "source": [
    "### Exploring the categorical variable"
   ]
  },
  {
   "cell_type": "code",
   "execution_count": null,
   "id": "aa726c4f",
   "metadata": {
    "ExecuteTime": {
     "end_time": "2023-04-07T23:17:11.156187Z",
     "start_time": "2023-04-07T23:17:11.156187Z"
    }
   },
   "outputs": [],
   "source": [
    "cat_data.head()"
   ]
  },
  {
   "cell_type": "code",
   "execution_count": null,
   "id": "57e82768",
   "metadata": {
    "ExecuteTime": {
     "end_time": "2023-04-07T23:17:11.156187Z",
     "start_time": "2023-04-07T23:17:11.156187Z"
    }
   },
   "outputs": [],
   "source": [
    "def count_plot(\n",
    "    *,\n",
    "    df: pd.DataFrame,\n",
    "    columns: list,\n",
    "    nrows: int,\n",
    "    ncols: int,\n",
    "    figsize: tuple = (17, 10),\n",
    "    hue: Union[None, str] = None,\n",
    "    #   hspace: float = 0.3,\n",
    "    #   wspace: float = 0.2,\n",
    "    title_size: int = 15,\n",
    "    xlabel_size: int = 15,\n",
    "    ylabel_size: int = 15,\n",
    "    rotation: Union[None, int] = None,\n",
    "    x_labelsize: int = 12,\n",
    "    color: str = \"#6e917f\",\n",
    ") -> \"Plot\":\n",
    "    \"\"\" This fuction returns multiple bar chart simultaneously\n",
    "        ==========================================================\n",
    "        Parameters\n",
    "        -> df: The dataframe to be used\n",
    "        -> data: list of columns to be use\n",
    "        -> nrows: number of row \n",
    "        -> n_cols: number of columns \n",
    "           the product of the number of row and columns should not be less than the size of the data listed\n",
    "        -> figzise: The size of the figures, width and height as tuple, by default is 17 width, 10 height \n",
    "        -> hue: Additional information to the chart, it is like a legend, it is None by default\n",
    "        -> hspace: height space, helps between the rows, by  0.3 by default\n",
    "        -> wspace: width space, helps between the columns, by  0.1 by default\n",
    "        -> xlabel_size: the size of the x label, 15 by default\n",
    "        -> ylabel_size: the size of the y label, 15 by default\n",
    "        -> rotation: the number of degrees to be rotated for x label, 0 by default\n",
    "        -> labelsize: size of the label when it is set to rotate\n",
    "        \n",
    "    \"\"\"\n",
    "\n",
    "    fig, axs = plt.subplots(nrows, ncols, figsize=figsize)\n",
    "    for idx, var in enumerate(columns):\n",
    "        if nrows > 1:\n",
    "            ax = axs[\n",
    "                (idx // ncols), (idx % ncols)\n",
    "            ]  # calculating and finding the axis and  then store it\n",
    "        else:\n",
    "            ax = axs[idx]\n",
    "\n",
    "        sns.countplot(data=df, x=var, ax=ax, color=color)\n",
    "        ax.set_title(f\"Distribution of {var!r}\", size=title_size)\n",
    "        ax.set_xlabel(var, size=xlabel_size)\n",
    "        ax.set_ylabel(\"count\", size=ylabel_size)\n",
    "        #  plt.subplots_adjust(hspace=hspace, wspace=wspace)\n",
    "        ax.tick_params(axis=\"x\", rotation=rotation, labelsize=x_labelsize)\n",
    "\n",
    "        # Annotate the chart\n",
    "        for bar in ax.patches:\n",
    "            x_val = bar.get_x() + bar.get_width() / 2  # x pos\n",
    "            y_val = bar.get_height()  # y pos\n",
    "            ax.annotate(\n",
    "                text=y_val,  # text pos\n",
    "                xy=(x_val, y_val),  # (x, y)\n",
    "                xytext=(0, 6),  # text position\n",
    "                ha=\"center\",  # horizontal alignment\n",
    "                va=\"center\",  # vertical alignment\n",
    "                size=10,  # text size\n",
    "                textcoords=\"offset points\",\n",
    "            )\n",
    "        plt.tight_layout()"
   ]
  },
  {
   "cell_type": "code",
   "execution_count": null,
   "id": "0f50f4d3",
   "metadata": {
    "ExecuteTime": {
     "end_time": "2023-04-07T23:17:11.156187Z",
     "start_time": "2023-04-07T23:17:11.156187Z"
    }
   },
   "outputs": [],
   "source": [
    "# checking the number of unique for the categorical variable\n",
    "for i in cat_data.columns:\n",
    "    print({i: cat_data[i].nunique()})"
   ]
  },
  {
   "cell_type": "code",
   "execution_count": null,
   "id": "51c3f7c7",
   "metadata": {
    "ExecuteTime": {
     "end_time": "2023-04-07T23:17:11.164187Z",
     "start_time": "2023-04-07T23:17:11.164187Z"
    }
   },
   "outputs": [],
   "source": [
    "count_plot(\n",
    "    df=cat_data,\n",
    "    columns=cat_data.columns,\n",
    "    ncols=2,\n",
    "    nrows=5,\n",
    "    rotation=80,\n",
    "    figsize=(15, 35),\n",
    ")"
   ]
  },
  {
   "cell_type": "markdown",
   "id": "790bd3bc",
   "metadata": {},
   "source": [
    "#### Comment\n",
    "* I will encode the salary to 1 and 2, from <=50k, and >50k respectively\n",
    "* Occupation and work class variable has a label \"?\"  i will replace the values with the mode\n",
    "* The country variable has many unique values and also united state has 91 percent of the value, so will drop the column\n",
    "* I will combine without_pay and never_worked as others in the work class variable\n",
    "* for occupation variable i will join armed forced to protective services\n",
    " "
   ]
  },
  {
   "cell_type": "code",
   "execution_count": null,
   "id": "0d2744dd",
   "metadata": {
    "ExecuteTime": {
     "end_time": "2023-04-07T23:17:11.164187Z",
     "start_time": "2023-04-07T23:17:11.164187Z"
    }
   },
   "outputs": [],
   "source": [
    "cat_data[\"Occupation\"].value_counts()"
   ]
  },
  {
   "cell_type": "markdown",
   "id": "9054a0b7",
   "metadata": {},
   "source": [
    "## FEATURE ENGINEERING\n",
    "\n",
    "* Descritizing the age variable\n",
    "* Applying transfprmation to final weight, hours per week\n",
    "* For the Education_num, i will combine 2 t0 6 as single label, and 12 to 18 to single label, i will leave 9 as it is"
   ]
  },
  {
   "cell_type": "code",
   "execution_count": null,
   "id": "d71384e9",
   "metadata": {
    "ExecuteTime": {
     "end_time": "2023-04-07T23:17:11.164187Z",
     "start_time": "2023-04-07T23:17:11.164187Z"
    }
   },
   "outputs": [],
   "source": [
    "data = pd.read_csv(\"data/salary.csv\")\n",
    "\n",
    "print(data.shape)\n",
    "data.head(3)"
   ]
  },
  {
   "cell_type": "markdown",
   "id": "90b198bc",
   "metadata": {},
   "source": [
    "#### Encoding target variables"
   ]
  },
  {
   "cell_type": "code",
   "execution_count": null,
   "id": "60abdb96",
   "metadata": {
    "ExecuteTime": {
     "end_time": "2023-04-07T23:17:11.172188Z",
     "start_time": "2023-04-07T23:17:11.172188Z"
    }
   },
   "outputs": [],
   "source": [
    "mapper = {\" <=50K\": 1, \" >50K\": 2}\n",
    "data[\"Salary\"] = data[\"Salary\"].map(mapper)"
   ]
  },
  {
   "cell_type": "code",
   "execution_count": null,
   "id": "04c05ac2",
   "metadata": {
    "ExecuteTime": {
     "end_time": "2023-04-07T23:17:11.176889Z",
     "start_time": "2023-04-07T23:17:11.176889Z"
    },
    "scrolled": true
   },
   "outputs": [],
   "source": [
    "data.head(7)"
   ]
  },
  {
   "cell_type": "markdown",
   "id": "577c651b",
   "metadata": {},
   "source": [
    "#### Dropping duplicate values"
   ]
  },
  {
   "cell_type": "code",
   "execution_count": null,
   "id": "46272be3",
   "metadata": {
    "ExecuteTime": {
     "end_time": "2023-04-07T23:17:11.180154Z",
     "start_time": "2023-04-07T23:17:11.180154Z"
    }
   },
   "outputs": [],
   "source": [
    "# checking for duplicate\n",
    "data.duplicated().sum()"
   ]
  },
  {
   "cell_type": "code",
   "execution_count": null,
   "id": "0afb6a11",
   "metadata": {
    "ExecuteTime": {
     "end_time": "2023-04-07T23:17:11.180154Z",
     "start_time": "2023-04-07T23:17:11.180154Z"
    },
    "scrolled": true
   },
   "outputs": [],
   "source": [
    "print(f\"Before dropping duplicate {data.shape}\")\n",
    "\n",
    "# dropping duplicate\n",
    "data.drop_duplicates(inplace=True)\n",
    "\n",
    "print(f\"After dropping duplicate {data.shape}\")"
   ]
  },
  {
   "cell_type": "markdown",
   "id": "0f5a69d2",
   "metadata": {},
   "source": [
    "### Splitting the data"
   ]
  },
  {
   "cell_type": "code",
   "execution_count": null,
   "id": "12b3d243",
   "metadata": {
    "ExecuteTime": {
     "end_time": "2023-04-07T23:17:11.180154Z",
     "start_time": "2023-04-07T23:17:11.180154Z"
    }
   },
   "outputs": [],
   "source": [
    "## initializing constant\n",
    "RANDOM_STATE = 123\n",
    "TEST_SIZE = 0.2\n",
    "TARGET = \"Salary\""
   ]
  },
  {
   "cell_type": "code",
   "execution_count": null,
   "id": "051df198",
   "metadata": {
    "ExecuteTime": {
     "end_time": "2023-04-07T23:17:11.188152Z",
     "start_time": "2023-04-07T23:17:11.188152Z"
    }
   },
   "outputs": [],
   "source": [
    "# first of all i will split the data before feature enginearing\n",
    "from sklearn.model_selection import train_test_split\n",
    "\n",
    "# getting the feature variable\n",
    "X = data.drop(columns=[TARGET])\n",
    "\n",
    "# getting the target\n",
    "y = data[TARGET]\n",
    "\n",
    "X_train, X_test, y_train, y_test = train_test_split(\n",
    "    X, y, test_size=TEST_SIZE, random_state=RANDOM_STATE\n",
    ")\n",
    "\n",
    "X_train.shape, X_test.shape"
   ]
  },
  {
   "cell_type": "markdown",
   "id": "288f1953",
   "metadata": {},
   "source": [
    "### droping unwanted columns"
   ]
  },
  {
   "cell_type": "code",
   "execution_count": null,
   "id": "6529b775",
   "metadata": {
    "ExecuteTime": {
     "end_time": "2023-04-07T23:17:11.188152Z",
     "start_time": "2023-04-07T23:17:11.188152Z"
    }
   },
   "outputs": [],
   "source": [
    "columns = [\"Capital_gain\", \"Capital_loss\", \"Country\"]\n",
    "X_train.drop(columns=columns, inplace=True)\n",
    "X_test.drop(columns=columns, inplace=True)"
   ]
  },
  {
   "cell_type": "markdown",
   "id": "d4e4461d",
   "metadata": {},
   "source": [
    "#### Replacing ?"
   ]
  },
  {
   "cell_type": "code",
   "execution_count": null,
   "id": "17c98132",
   "metadata": {
    "ExecuteTime": {
     "end_time": "2023-04-07T23:17:11.196153Z",
     "start_time": "2023-04-07T23:17:11.196153Z"
    }
   },
   "outputs": [],
   "source": [
    "def replace_question_mark(data: pd.DataFrame) -> pd.DataFrame:\n",
    "    for i in data.select_dtypes(include=\"O\").columns:\n",
    "        get_mode = data[i].mode()[0]\n",
    "        data[i] = np.where(data[i].str.contains(\"\\?\"), get_mode, data[i])\n",
    "\n",
    "\n",
    "# return data"
   ]
  },
  {
   "cell_type": "code",
   "execution_count": null,
   "id": "739dd03e",
   "metadata": {
    "ExecuteTime": {
     "end_time": "2023-04-07T23:17:11.196153Z",
     "start_time": "2023-04-07T23:17:11.196153Z"
    },
    "scrolled": true
   },
   "outputs": [],
   "source": [
    "# before replacement\n",
    "X_train[\"Workclass\"].unique()"
   ]
  },
  {
   "cell_type": "code",
   "execution_count": null,
   "id": "3d594cd7",
   "metadata": {
    "ExecuteTime": {
     "end_time": "2023-04-07T23:17:11.196153Z",
     "start_time": "2023-04-07T23:17:11.196153Z"
    }
   },
   "outputs": [],
   "source": [
    "# replacing for the train data\n",
    "replace_question_mark(X_train)\n",
    "\n",
    "# replacing for the train data\n",
    "replace_question_mark(X_test)"
   ]
  },
  {
   "cell_type": "code",
   "execution_count": null,
   "id": "dd72f173",
   "metadata": {
    "ExecuteTime": {
     "end_time": "2023-04-07T23:17:11.204152Z",
     "start_time": "2023-04-07T23:17:11.204152Z"
    }
   },
   "outputs": [],
   "source": [
    "# after replacement\n",
    "X_train[\"Workclass\"].unique()"
   ]
  },
  {
   "cell_type": "markdown",
   "id": "fa41fd45",
   "metadata": {},
   "source": [
    "### Descritizing"
   ]
  },
  {
   "cell_type": "code",
   "execution_count": null,
   "id": "39bcabd5",
   "metadata": {
    "ExecuteTime": {
     "end_time": "2023-04-07T23:17:11.204152Z",
     "start_time": "2023-04-07T23:17:11.204152Z"
    }
   },
   "outputs": [],
   "source": [
    "# i will use qcut to desritize\n",
    "def descritization(\n",
    "    *, data: pd.DataFrame, variables: list, bins: int, labels: list[Union[str, int]],\n",
    ") -> pd.DataFrame:\n",
    "\n",
    "    data[f\"{variables}_binned\"] = pd.qcut(\n",
    "        x=data[variables], q=bins, labels=labels, duplicates=\"drop\"\n",
    "    )\n",
    "\n",
    "    # dropping the old column\n",
    "    data.drop(columns=[variables], inplace=True)\n",
    "\n",
    "\n",
    "# return data"
   ]
  },
  {
   "cell_type": "code",
   "execution_count": null,
   "id": "d813d7c8",
   "metadata": {
    "ExecuteTime": {
     "end_time": "2023-04-07T23:17:11.204152Z",
     "start_time": "2023-04-07T23:17:11.204152Z"
    }
   },
   "outputs": [],
   "source": [
    "# descritizing age\n",
    "VARIABLE = \"Age\"\n",
    "# for training dataset\n",
    "descritization(data=X_train, variables=VARIABLE, bins=4, labels=False)\n",
    "\n",
    "# testing dataset\n",
    "descritization(data=X_test, variables=VARIABLE, bins=4, labels=False)"
   ]
  },
  {
   "cell_type": "code",
   "execution_count": null,
   "id": "fbdf78c7",
   "metadata": {
    "ExecuteTime": {
     "end_time": "2023-04-07T23:17:11.213460Z",
     "start_time": "2023-04-07T23:17:11.213460Z"
    }
   },
   "outputs": [],
   "source": [
    "X_train[\"Age_binned\"].unique()"
   ]
  },
  {
   "cell_type": "code",
   "execution_count": null,
   "id": "affd21fc",
   "metadata": {
    "ExecuteTime": {
     "end_time": "2023-04-07T23:17:11.213460Z",
     "start_time": "2023-04-07T23:17:11.213460Z"
    }
   },
   "outputs": [],
   "source": [
    "# descritizing final weight\n",
    "VARIABLE = \"Final_weight\"\n",
    "# for training dataset\n",
    "descritization(data=X_train, variables=VARIABLE, bins=4, labels=False)\n",
    "\n",
    "# testing dataset\n",
    "descritization(data=X_test, variables=VARIABLE, bins=4, labels=False)"
   ]
  },
  {
   "cell_type": "code",
   "execution_count": null,
   "id": "cb253be8",
   "metadata": {
    "ExecuteTime": {
     "end_time": "2023-04-07T23:17:11.213460Z",
     "start_time": "2023-04-07T23:17:11.213460Z"
    }
   },
   "outputs": [],
   "source": [
    "X_train[\"Final_weight_binned\"].unique()"
   ]
  },
  {
   "cell_type": "code",
   "execution_count": null,
   "id": "5558d3e0",
   "metadata": {
    "ExecuteTime": {
     "end_time": "2023-04-07T23:17:11.221459Z",
     "start_time": "2023-04-07T23:17:11.221459Z"
    }
   },
   "outputs": [],
   "source": [
    "# descritizing hours per week\n",
    "# for training dataset\n",
    "VARIABLE = \"Hours_per_week\"\n",
    "descritization(data=X_train, variables=VARIABLE, bins=4, labels=False)\n",
    "\n",
    "# testing dataset\n",
    "descritization(data=X_test, variables=VARIABLE, bins=4, labels=False)"
   ]
  },
  {
   "cell_type": "code",
   "execution_count": null,
   "id": "637f4576",
   "metadata": {
    "ExecuteTime": {
     "end_time": "2023-04-07T23:17:11.221459Z",
     "start_time": "2023-04-07T23:17:11.221459Z"
    },
    "scrolled": true
   },
   "outputs": [],
   "source": [
    "X_test[\"Education_num\"].unique()"
   ]
  },
  {
   "cell_type": "code",
   "execution_count": null,
   "id": "5d1fffe7",
   "metadata": {
    "ExecuteTime": {
     "end_time": "2023-04-07T23:17:11.221459Z",
     "start_time": "2023-04-07T23:17:11.221459Z"
    },
    "scrolled": true
   },
   "outputs": [],
   "source": [
    "X_train[\"Hours_per_week_binned\"].unique()"
   ]
  },
  {
   "cell_type": "code",
   "execution_count": null,
   "id": "38f9a280",
   "metadata": {
    "ExecuteTime": {
     "end_time": "2023-04-07T23:17:11.229458Z",
     "start_time": "2023-04-07T23:17:11.229458Z"
    },
    "scrolled": true
   },
   "outputs": [],
   "source": [
    "## descritizing education num\n",
    "# for training dataset\n",
    "VARIABLE = \"Education_num\"\n",
    "descritization(data=X_train, variables=VARIABLE, bins=4, labels=False)\n",
    "\n",
    "# testing dataset\n",
    "descritization(data=X_test, variables=VARIABLE, bins=4, labels=False)"
   ]
  },
  {
   "cell_type": "code",
   "execution_count": null,
   "id": "0fc30192",
   "metadata": {},
   "outputs": [],
   "source": []
  },
  {
   "cell_type": "code",
   "execution_count": null,
   "id": "d5c6c8d2",
   "metadata": {
    "ExecuteTime": {
     "end_time": "2023-04-07T23:17:11.229458Z",
     "start_time": "2023-04-07T23:17:11.229458Z"
    }
   },
   "outputs": [],
   "source": [
    "X_train[\"Education_num_binned\"].unique()"
   ]
  },
  {
   "cell_type": "markdown",
   "id": "b9b6873d",
   "metadata": {},
   "source": [
    "### replacing values"
   ]
  },
  {
   "cell_type": "code",
   "execution_count": null,
   "id": "2a109cee",
   "metadata": {
    "ExecuteTime": {
     "end_time": "2023-04-07T23:17:11.229458Z",
     "start_time": "2023-04-07T23:17:11.229458Z"
    }
   },
   "outputs": [],
   "source": [
    "# defining variables\n",
    "\n",
    "occupation = \"Occupation\"\n",
    "occupation_search = [\" Armed-Forces\"]\n",
    "occupation_replacement = \" Protective-serv\"\n",
    "\n",
    "workclass = \"Workclass\"\n",
    "workclass_search = [\" Never-worked\", \" Without-pay\"]\n",
    "workclass_replacement = \" Others\"\n",
    "\n",
    "marital_status = \"Marital_status\"\n",
    "marital_search = [\" Married-AF-spouse\"]\n",
    "marital_replace = \" Married-civ-spouse\""
   ]
  },
  {
   "cell_type": "code",
   "execution_count": null,
   "id": "1e08078f",
   "metadata": {
    "ExecuteTime": {
     "end_time": "2023-04-07T23:17:11.237458Z",
     "start_time": "2023-04-07T23:17:11.237458Z"
    },
    "scrolled": true
   },
   "outputs": [],
   "source": [
    "X_test[\"Marital_status\"].unique()"
   ]
  },
  {
   "cell_type": "code",
   "execution_count": null,
   "id": "15965b3b",
   "metadata": {
    "ExecuteTime": {
     "end_time": "2023-04-07T23:17:11.237458Z",
     "start_time": "2023-04-07T23:17:11.237458Z"
    }
   },
   "outputs": [],
   "source": [
    "def replacing_values(\n",
    "    *, data: pd.DataFrame, variable: str, search: list, replace: str\n",
    ") -> pd.DataFrame:\n",
    "    data[variable] = np.where(data[variable].isin(search), replace, data[variable])\n",
    "    # return data"
   ]
  },
  {
   "cell_type": "code",
   "execution_count": null,
   "id": "0be6619b",
   "metadata": {
    "ExecuteTime": {
     "end_time": "2023-04-07T23:17:11.245456Z",
     "start_time": "2023-04-07T23:17:11.245456Z"
    },
    "scrolled": true
   },
   "outputs": [],
   "source": [
    "# replacing occupation\n",
    "# for training\n",
    "replacing_values(\n",
    "    data=X_train,\n",
    "    variable=occupation,\n",
    "    search=occupation_search,\n",
    "    replace=occupation_replacement,\n",
    ")\n",
    "\n",
    "# for testing\n",
    "replacing_values(\n",
    "    data=X_test,\n",
    "    variable=occupation,\n",
    "    search=occupation_search,\n",
    "    replace=occupation_replacement,\n",
    ")"
   ]
  },
  {
   "cell_type": "code",
   "execution_count": null,
   "id": "a6c99520",
   "metadata": {
    "ExecuteTime": {
     "end_time": "2023-04-07T23:17:11.245456Z",
     "start_time": "2023-04-07T23:17:11.245456Z"
    }
   },
   "outputs": [],
   "source": [
    "X_train[\"Occupation\"].unique()"
   ]
  },
  {
   "cell_type": "code",
   "execution_count": null,
   "id": "27698d37",
   "metadata": {
    "ExecuteTime": {
     "end_time": "2023-04-07T23:17:11.245456Z",
     "start_time": "2023-04-07T23:17:11.245456Z"
    }
   },
   "outputs": [],
   "source": [
    "# replacing work class\n",
    "# for training\n",
    "replacing_values(\n",
    "    data=X_train,\n",
    "    variable=workclass,\n",
    "    search=workclass_search,\n",
    "    replace=workclass_replacement,\n",
    ")\n",
    "\n",
    "# for testing\n",
    "replacing_values(\n",
    "    data=X_test,\n",
    "    variable=workclass,\n",
    "    search=workclass_search,\n",
    "    replace=workclass_replacement,\n",
    ")"
   ]
  },
  {
   "cell_type": "code",
   "execution_count": null,
   "id": "21547510",
   "metadata": {
    "ExecuteTime": {
     "end_time": "2023-04-07T23:17:11.253456Z",
     "start_time": "2023-04-07T23:17:11.253456Z"
    }
   },
   "outputs": [],
   "source": [
    "X_train[\"Workclass\"].unique()"
   ]
  },
  {
   "cell_type": "code",
   "execution_count": null,
   "id": "d07228b0",
   "metadata": {
    "ExecuteTime": {
     "end_time": "2023-04-07T23:17:11.253456Z",
     "start_time": "2023-04-07T23:17:11.253456Z"
    }
   },
   "outputs": [],
   "source": [
    "# replacing marital status\n",
    "# for training\n",
    "replacing_values(\n",
    "    data=X_train,\n",
    "    variable=marital_status,\n",
    "    search=marital_search,\n",
    "    replace=marital_replace,\n",
    ")\n",
    "\n",
    "# for testing\n",
    "replacing_values(\n",
    "    data=X_test,\n",
    "    variable=marital_status,\n",
    "    search=marital_search,\n",
    "    replace=marital_replace,\n",
    ")"
   ]
  },
  {
   "cell_type": "code",
   "execution_count": null,
   "id": "28167bc8",
   "metadata": {
    "ExecuteTime": {
     "end_time": "2023-04-07T23:17:11.253456Z",
     "start_time": "2023-04-07T23:17:11.253456Z"
    }
   },
   "outputs": [],
   "source": [
    "X_test[\"Marital_status\"].unique()"
   ]
  },
  {
   "cell_type": "code",
   "execution_count": null,
   "id": "9c7bd7d6",
   "metadata": {
    "ExecuteTime": {
     "end_time": "2023-04-07T23:17:11.261457Z",
     "start_time": "2023-04-07T23:17:11.261457Z"
    }
   },
   "outputs": [],
   "source": [
    "# apply one hot encoding\n",
    "\n",
    "X_train = pd.get_dummies(X_train)\n",
    "X_test = pd.get_dummies(X_test)"
   ]
  },
  {
   "cell_type": "code",
   "execution_count": null,
   "id": "4d9d3fac",
   "metadata": {
    "ExecuteTime": {
     "end_time": "2023-04-07T23:17:11.261457Z",
     "start_time": "2023-04-07T23:17:11.261457Z"
    },
    "scrolled": true
   },
   "outputs": [],
   "source": [
    "X_train.shape\n"
   ]
  },
  {
   "cell_type": "markdown",
   "id": "d16ceeb7",
   "metadata": {},
   "source": [
    "### Using Pipeline"
   ]
  },
  {
   "cell_type": "code",
   "execution_count": null,
   "id": "db5dae28",
   "metadata": {
    "ExecuteTime": {
     "end_time": "2023-04-07T23:17:11.261457Z",
     "start_time": "2023-04-07T23:17:11.261457Z"
    }
   },
   "outputs": [],
   "source": [
    "from sklearn.pipeline import Pipeline\n",
    "from sklearn.compose import ColumnTransformer\n",
    "from sklearn.preprocessing import OneHotEncoder\n",
    "from sklearn.base import BaseEstimator, TransformerMixin\n",
    "\n",
    "from sklearn import set_config\n",
    "\n",
    "set_config(\"diagram\")"
   ]
  },
  {
   "cell_type": "code",
   "execution_count": null,
   "id": "cb3d4556",
   "metadata": {
    "ExecuteTime": {
     "end_time": "2023-04-07T23:17:11.269454Z",
     "start_time": "2023-04-07T23:17:11.269454Z"
    },
    "scrolled": true
   },
   "outputs": [],
   "source": [
    "# getting the data\n",
    "data = pd.read_csv(\"data/salary.csv\")\n",
    "\n",
    "print(data.shape)\n",
    "data.head(1)\n"
   ]
  },
  {
   "cell_type": "markdown",
   "id": "6847fa20",
   "metadata": {},
   "source": [
    "#### Defining variables"
   ]
  },
  {
   "cell_type": "code",
   "execution_count": null,
   "id": "c4b7dd49",
   "metadata": {
    "ExecuteTime": {
     "end_time": "2023-04-07T23:17:11.269454Z",
     "start_time": "2023-04-07T23:17:11.269454Z"
    }
   },
   "outputs": [],
   "source": [
    "# columns to drop\n",
    "drop_columns = [\"Capital_gain\", \"Capital_loss\", \"Country\"]\n",
    "\n",
    "\n",
    "# for descritization\n",
    "age_var = \"Age\"\n",
    "final_weight_var = \"Final_weight\"\n",
    "hours_per_week_var = \"Hours_per_week\"\n",
    "BINS = 4\n",
    "LABELS = False\n",
    "\n",
    "\n",
    "# for  replacing values\n",
    "occupation = \"Occupation\"\n",
    "occupation_search = [\" Armed-Forces\"]\n",
    "occupation_replacement = \" Protective-serv\"\n",
    "\n",
    "workclass = \"Workclass\"\n",
    "workclass_search = [\" Never-worked\", \" Without-pay\"]\n",
    "workclass_replacement = \" Others\"\n",
    "\n",
    "marital_status = \"Marital_status\"\n",
    "marital_search = [\" Married-AF-spouse\"]\n",
    "marital_replace = \" Married-civ-spouse\"\n",
    "\n",
    "# variables to encode\n",
    "country_var = \"Country\"\n",
    "\n",
    "NUM_COMPONENTS= 2"
   ]
  },
  {
   "cell_type": "code",
   "execution_count": null,
   "id": "c3092956",
   "metadata": {
    "ExecuteTime": {
     "end_time": "2023-04-07T23:17:11.269454Z",
     "start_time": "2023-04-07T23:17:11.269454Z"
    }
   },
   "outputs": [],
   "source": [
    "# splitting data\n",
    "from sklearn.model_selection import train_test_split\n",
    "\n",
    "# encoding target variable\n",
    "mapper = {\" <=50K\": 1, \" >50K\": 2}\n",
    "data[\"Salary\"] = data[\"Salary\"].map(mapper)\n",
    "\n",
    "# dropping duplicate values\n",
    "data.duplicated().sum()\n",
    "\n",
    "# getting the feature variable\n",
    "X = data.drop(columns=[TARGET])\n",
    "\n",
    "# getting the target\n",
    "y = data[TARGET]\n",
    "\n",
    "X_train, X_test, y_train, y_test = train_test_split(\n",
    "    X, y, test_size=TEST_SIZE, random_state=RANDOM_STATE\n",
    ")\n",
    "\n",
    "X_train.shape, X_test.shape"
   ]
  },
  {
   "cell_type": "code",
   "execution_count": null,
   "id": "69ec5fd6",
   "metadata": {
    "ExecuteTime": {
     "end_time": "2023-04-07T23:17:11.277453Z",
     "start_time": "2023-04-07T23:17:11.277453Z"
    }
   },
   "outputs": [],
   "source": [
    "class DropColumns(BaseEstimator, TransformerMixin):\n",
    "    \n",
    "    def __init__(self, *, features: list) -> None:\n",
    "        self.features = features\n",
    "        \n",
    "    def fit(self, X, y=None) -> None:\n",
    "        \"\"\"This is a required step to work with sklearn Pipelines.\"\"\"\n",
    "        return self\n",
    "        \n",
    "    def transform(self, X, y=None) -> pd.DataFrame:\n",
    "       \n",
    "        X = X.copy()\n",
    "        return X.drop(columns = self.features)\n",
    "    \n",
    "class ReplaceQuestionMark(BaseEstimator, TransformerMixin):\n",
    "    \n",
    "    def __init__(self) -> None:\n",
    "        pass\n",
    "    \n",
    "    def fit(self, X, y=None) -> None:\n",
    "        \"\"\"This is a required step to work with sklearn Pipelines.\"\"\"\n",
    "        return self\n",
    "    \n",
    "    def transform(self, X, y=None) -> pd.DataFrame:\n",
    "        \"\"\"This applies the transformation.\"\"\"\n",
    "        X = X.copy()\n",
    "        columns = X.select_dtypes(include=\"O\").columns\n",
    "        for i in columns:\n",
    "            get_mode = X[i].mode()[0]\n",
    "            X[i] = np.where(X[i].str.contains(\"\\?\"), get_mode, X[i])\n",
    "        return X\n",
    "    \n",
    "class Discretize(BaseEstimator, TransformerMixin):\n",
    "    \n",
    "    def __init__(self, *, variable: str, bins: int, labels: list[Union[str, int]]) -> None:\n",
    "        self.variable = variable\n",
    "        self.bins = bins\n",
    "        self.labels = labels\n",
    "        \n",
    "    def discetize_var(self, *, data: pd.DataFrame) -> pd.DataFrame:\n",
    "        \n",
    "        data[f\"{self.variable}_binned\"] = pd.qcut(\n",
    "             x=data[self.variable], q=self.bins, labels=self.labels, duplicates=\"drop\"\n",
    "             )\n",
    "\n",
    "        # dropping the old column\n",
    "        data.drop(columns=[self.variable], inplace=True)\n",
    "        \n",
    "        return data\n",
    "        \n",
    "    def fit(self, X, y=None) -> None:\n",
    "        \"\"\"This is a required step to work with sklearn Pipelines.\"\"\"\n",
    "        return self\n",
    "    \n",
    "    def transform(self,  X, y=None) -> pd.DataFrame:\n",
    "        X= X.copy()\n",
    "        return self.discetize_var(data=X) \n",
    "    \n",
    "class ReplaceValues(BaseEstimator, TransformerMixin):\n",
    "    \n",
    "    def __init__(self, *, variable: str, search: list, replace: str)-> None:\n",
    "        self.variable = variable\n",
    "        self.search = search\n",
    "        self.replace = replace\n",
    "        \n",
    "    def replace_values(self, *, data: pd.DataFrame) -> pd.DataFrame:\n",
    "        \n",
    "        data[self.variable] = np.where(data[self.variable].isin(self.search), self.replace, data[self.variable])\n",
    "        return data\n",
    "            \n",
    "    def fit(self, X, y=None) -> None:\n",
    "        \"\"\"This is a required step to work with sklearn Pipelines.\"\"\"\n",
    "        return self\n",
    "    \n",
    "    def transform(self,  X, y=None) -> pd.DataFrame:\n",
    "        X= X.copy()\n",
    "        return self.replace_values(data=X) \n",
    "    \n",
    "class CustomOneHotEncoder(BaseEstimator, TransformerMixin):\n",
    "    \"\"\"This transformer is used to apply One-Hot\n",
    "    Encoding to the variables.\"\"\"\n",
    "\n",
    "    def __init__(self) -> None:\n",
    "        pass\n",
    "\n",
    "    def _one_hot_encode(self, *, X: pd.DataFrame) -> pd.DataFrame:\n",
    "        \"\"\"This is used to one-hot encode the categorical variables.\"\"\"\n",
    "        data = pd.get_dummies(X)\n",
    "        return data\n",
    "\n",
    "    def fit(self, X, y=None) -> None:\n",
    "        \"\"\"This is a required step to work with sklearn Pipelines.\"\"\"\n",
    "        return self\n",
    "\n",
    "    def transform(self, X, y=None) -> pd.DataFrame:\n",
    "        \"\"\"This applies the transformation.\"\"\"\n",
    "        X = X.copy()\n",
    "        X = self._one_hot_encode(X=X)\n",
    "        return X    \n",
    "        \n"
   ]
  },
  {
   "cell_type": "raw",
   "id": "a99e9485",
   "metadata": {
    "ExecuteTime": {
     "end_time": "2023-04-07T20:19:31.232273Z",
     "start_time": "2023-04-07T20:19:31.207020Z"
    }
   },
   "source": [
    "\n",
    "ohe_col_transformer = ColumnTransformer(\n",
    "    transformers=[(\"ohe\", OneHotEncoder(handle_unknown=\"ignore\"), df.select_dtypes(include=\"O\").columns.drop(country_var))],\n",
    "    remainder=\"passthrough\"\n",
    ")"
   ]
  },
  {
   "cell_type": "raw",
   "id": "6058664a",
   "metadata": {
    "ExecuteTime": {
     "end_time": "2023-04-07T21:05:56.111380Z",
     "start_time": "2023-04-07T21:05:56.105385Z"
    }
   },
   "source": [
    "vars_to_enc = ['Workclass', 'Education', 'Marital_status', 'Occupation',\n",
    "       'Relationship', 'Race', 'Sex']\n",
    "ohe = OneHotEncoder(dtype=int, handle_unknown=\"ignore\")\n",
    "col_transformer = ColumnTransformer(\n",
    "    transformers=[(\"ohe\", ohe, vars_to_enc)],\n",
    "    remainder=\"passthrough\",\n",
    ")"
   ]
  },
  {
   "cell_type": "code",
   "execution_count": null,
   "id": "af993eb9",
   "metadata": {
    "ExecuteTime": {
     "end_time": "2023-04-07T23:17:11.277453Z",
     "start_time": "2023-04-07T23:17:11.277453Z"
    }
   },
   "outputs": [],
   "source": [
    "from sklearn.preprocessing import MinMaxScaler, StandardScaler\n",
    "ohe_col_transformer = ColumnTransformer(\n",
    "    transformers=[],\n",
    "    remainder=\"passthrough\"\n",
    ")"
   ]
  },
  {
   "cell_type": "markdown",
   "id": "8fd996fb-c427-4252-b49e-62ef352f8890",
   "metadata": {},
   "source": [
    "### PREDICTION"
   ]
  },
  {
   "cell_type": "code",
   "execution_count": null,
   "id": "0d1e2eef-8430-4cff-8bae-b1d4673c00a8",
   "metadata": {
    "ExecuteTime": {
     "end_time": "2023-04-07T23:17:11.277453Z",
     "start_time": "2023-04-07T23:17:11.277453Z"
    }
   },
   "outputs": [],
   "source": [
    "from sklearn.linear_model import LogisticRegression\n",
    "from sklearn.tree import DecisionTreeClassifier\n",
    "from sklearn.ensemble import RandomForestClassifier\n",
    "from sklearn import metrics\n",
    "from sklearn.model_selection import cross_val_score\n",
    "from sklearn.decomposition import PCA\n",
    "\n",
    "from sklearn import set_config\n",
    "set_config(display=\"diagram\")\n",
    "\n",
    "import warnings\n",
    "warnings.filterwarnings(action='once')\n"
   ]
  },
  {
   "cell_type": "markdown",
   "id": "a3fbc4bc",
   "metadata": {},
   "source": [
    "### DECISION TREE"
   ]
  },
  {
   "cell_type": "code",
   "execution_count": null,
   "id": "f1d4cd1c",
   "metadata": {
    "ExecuteTime": {
     "end_time": "2023-04-07T23:17:11.285453Z",
     "start_time": "2023-04-07T23:17:11.285453Z"
    }
   },
   "outputs": [],
   "source": [
    "\n",
    "decision_tree_pipe = Pipeline(\n",
    "    steps=[\n",
    "        # =============Drop columns ================\n",
    "        (\"drop_columns\", DropColumns(features=drop_columns)),\n",
    "        # =============Replace Question Mark ================\n",
    "        (\"replace_question_mark\", ReplaceQuestionMark()),\n",
    "        # =============Discretize variable ================\n",
    "        (\"discritize_age\", Discretize(variable=age_var, bins=BINS, labels=LABELS)),\n",
    "        (\n",
    "            \"discritize_final_weight\",\n",
    "            Discretize(variable=final_weight_var, bins=BINS, labels=LABELS),\n",
    "        ),\n",
    "        (\n",
    "            \"discritize_hours_per_week\",\n",
    "            Discretize(variable=hours_per_week_var, bins=BINS, labels=LABELS),\n",
    "        ),\n",
    "        # =============replacing values ================\n",
    "        (\n",
    "            \"repacing_occupation\",\n",
    "            ReplaceValues(\n",
    "                variable=occupation,\n",
    "                search=occupation_search,\n",
    "                replace=occupation_replacement,\n",
    "            ),\n",
    "        ),\n",
    "        (\n",
    "            \"replacing_work_class\",\n",
    "            ReplaceValues(\n",
    "                variable=workclass,\n",
    "                search=workclass_search,\n",
    "                replace=workclass_replacement,\n",
    "            ),\n",
    "        ),\n",
    "        (\n",
    "            \"replacing_marital_status\",\n",
    "            ReplaceValues(\n",
    "                variable=marital_status, search=marital_search, replace=marital_replace\n",
    "            ),\n",
    "        ),\n",
    "        # ==============Applying one hot encoder =============\n",
    "        (\"Ohe\", CustomOneHotEncoder()),\n",
    "        \n",
    "        # ==============Applying one hot encoder =============\n",
    "        #(\"Ohe\", col_transformer),\n",
    "        \n",
    "        #(\"PCA\", PCA(n_components=NUM_COMPONENTS)),\n",
    "        #=======sCALER========\n",
    "       # (\"Sscale\", MinMaxScaler()),\n",
    "        \n",
    "        #============== Dicision tree model =================\n",
    "        (\"Dicision tree\", DecisionTreeClassifier(random_state=RANDOM_STATE))\n",
    "    ]\n",
    ")\n"
   ]
  },
  {
   "cell_type": "code",
   "execution_count": null,
   "id": "95c99775-0635-44b7-afba-db315157e87d",
   "metadata": {
    "ExecuteTime": {
     "end_time": "2023-04-07T23:17:11.285453Z",
     "start_time": "2023-04-07T23:17:11.285453Z"
    },
    "scrolled": true
   },
   "outputs": [],
   "source": [
    "decision_tree_pipe"
   ]
  },
  {
   "cell_type": "code",
   "execution_count": null,
   "id": "5d7dbc5b",
   "metadata": {
    "ExecuteTime": {
     "end_time": "2023-04-07T23:17:11.285453Z",
     "start_time": "2023-04-07T23:17:11.285453Z"
    },
    "scrolled": true,
    "tags": []
   },
   "outputs": [],
   "source": [
    "\n",
    "# Fit\n",
    "decision_tree_pipe.fit(X_train, y_train)\n",
    "\n",
    "# Make predictions\n",
    "y_pred_1 = decision_tree_pipe.predict(X_test)\n",
    "\n",
    "\n",
    "clf_report = metrics.classification_report(y_true=y_test, y_pred=y_pred_1)\n",
    "\n",
    "print(clf_report)\n"
   ]
  },
  {
   "cell_type": "code",
   "execution_count": null,
   "id": "9382452c",
   "metadata": {},
   "outputs": [],
   "source": []
  },
  {
   "cell_type": "code",
   "execution_count": null,
   "id": "87bc4f1a",
   "metadata": {
    "ExecuteTime": {
     "end_time": "2023-04-07T23:17:11.293453Z",
     "start_time": "2023-04-07T23:17:11.293453Z"
    }
   },
   "outputs": [],
   "source": [
    "y_test.value_counts(normalize=True)"
   ]
  },
  {
   "cell_type": "code",
   "execution_count": null,
   "id": "80ac8c52",
   "metadata": {},
   "outputs": [],
   "source": []
  },
  {
   "cell_type": "markdown",
   "id": "3263b920",
   "metadata": {},
   "source": [
    "### LOGISTIC REGRESSION"
   ]
  },
  {
   "cell_type": "code",
   "execution_count": null,
   "id": "7ba0e824",
   "metadata": {
    "ExecuteTime": {
     "end_time": "2023-04-07T23:17:11.293453Z",
     "start_time": "2023-04-07T23:17:11.293453Z"
    }
   },
   "outputs": [],
   "source": [
    "\n",
    "logistic_pipe = Pipeline(\n",
    "    steps=[\n",
    "        # =============Drop columns ================\n",
    "        (\"drop_columns\", DropColumns(features=drop_columns)),\n",
    "        # =============Replace Question Mark ================\n",
    "        (\"replace_question_mark\", ReplaceQuestionMark()),\n",
    "        # =============Discretize variable ================\n",
    "        (\"discritize_age\", Discretize(variable=age_var, bins=BINS, labels=LABELS)),\n",
    "        (\n",
    "            \"discritize_final_weight\",\n",
    "            Discretize(variable=final_weight_var, bins=BINS, labels=LABELS),\n",
    "        ),\n",
    "        (\n",
    "            \"discritize_hours_per_week\",\n",
    "            Discretize(variable=hours_per_week_var, bins=BINS, labels=LABELS),\n",
    "        ),\n",
    "        # =============replacing values ================\n",
    "        (\n",
    "            \"repacing_occupation\",\n",
    "            ReplaceValues(\n",
    "                variable=occupation,\n",
    "                search=occupation_search,\n",
    "                replace=occupation_replacement,\n",
    "            ),\n",
    "        ),\n",
    "        (\n",
    "            \"replacing_work_class\",\n",
    "            ReplaceValues(\n",
    "                variable=workclass,\n",
    "                search=workclass_search,\n",
    "                replace=workclass_replacement,\n",
    "            ),\n",
    "        ),\n",
    "        (\n",
    "            \"replacing_marital_status\",\n",
    "            ReplaceValues(\n",
    "                variable=marital_status, search=marital_search, replace=marital_replace\n",
    "            ),\n",
    "        ),\n",
    "        # ==============Applying one hot encoder =============\n",
    "        (\"Ohe\", CustomOneHotEncoder()),\n",
    "        \n",
    "        # ==============Applying one hot encoder =============\n",
    "        #(\"Ohe\", col_transformer),\n",
    "        \n",
    "        #(\"PCA\", PCA(n_components=NUM_COMPONENTS)),\n",
    "        #\n",
    "        (\"scale\", StandardScaler()),\n",
    "        \n",
    "        #============== Dicision tree model =================\n",
    "        (\"Dicision tree\", LogisticRegression(random_state=RANDOM_STATE))\n",
    "    ]\n",
    ")\n"
   ]
  },
  {
   "cell_type": "code",
   "execution_count": null,
   "id": "80747452",
   "metadata": {
    "ExecuteTime": {
     "end_time": "2023-04-07T23:17:11.293453Z",
     "start_time": "2023-04-07T23:17:11.293453Z"
    },
    "scrolled": true
   },
   "outputs": [],
   "source": [
    "logistic_pipe"
   ]
  },
  {
   "cell_type": "code",
   "execution_count": null,
   "id": "f7d934a0",
   "metadata": {
    "ExecuteTime": {
     "end_time": "2023-04-07T23:17:11.301452Z",
     "start_time": "2023-04-07T23:17:11.301452Z"
    },
    "scrolled": true,
    "tags": []
   },
   "outputs": [],
   "source": [
    "# Fit\n",
    "logistic_pipe.fit(X_train, y_train)\n",
    "\n",
    "# Make predictions\n",
    "y_pred_2 = logistic_pipe.predict(X_test)\n",
    "\n",
    "clf_report = metrics.classification_report(y_true=y_test, y_pred=y_pred_2)\n",
    "\n",
    "print(clf_report)"
   ]
  },
  {
   "cell_type": "code",
   "execution_count": null,
   "id": "1557821d",
   "metadata": {},
   "outputs": [],
   "source": []
  },
  {
   "cell_type": "code",
   "execution_count": null,
   "id": "f2b4e0a4",
   "metadata": {},
   "outputs": [],
   "source": []
  },
  {
   "cell_type": "code",
   "execution_count": null,
   "id": "c927f119",
   "metadata": {},
   "outputs": [],
   "source": []
  },
  {
   "cell_type": "markdown",
   "id": "22f585b8",
   "metadata": {},
   "source": [
    "### RANDOM FOREST"
   ]
  },
  {
   "cell_type": "code",
   "execution_count": null,
   "id": "10c50365",
   "metadata": {
    "ExecuteTime": {
     "end_time": "2023-04-07T23:17:11.301452Z",
     "start_time": "2023-04-07T23:17:11.301452Z"
    }
   },
   "outputs": [],
   "source": [
    "\n",
    "random_forest_pipe = Pipeline(\n",
    "    steps=[\n",
    "        # =============Drop columns ================\n",
    "        (\"drop_columns\", DropColumns(features=drop_columns)),\n",
    "        # =============Replace Question Mark ================\n",
    "        (\"replace_question_mark\", ReplaceQuestionMark()),\n",
    "        # =============Discretize variable ================\n",
    "        (\"discritize_age\", Discretize(variable=age_var, bins=BINS, labels=LABELS)),\n",
    "        (\n",
    "            \"discritize_final_weight\",\n",
    "            Discretize(variable=final_weight_var, bins=BINS, labels=LABELS),\n",
    "        ),\n",
    "        (\n",
    "            \"discritize_hours_per_week\",\n",
    "            Discretize(variable=hours_per_week_var, bins=BINS, labels=LABELS),\n",
    "        ),\n",
    "        # =============replacing values ================\n",
    "        (\n",
    "            \"repacing_occupation\",\n",
    "            ReplaceValues(\n",
    "                variable=occupation,\n",
    "                search=occupation_search,\n",
    "                replace=occupation_replacement,\n",
    "            ),\n",
    "        ),\n",
    "        (\n",
    "            \"replacing_work_class\",\n",
    "            ReplaceValues(\n",
    "                variable=workclass,\n",
    "                search=workclass_search,\n",
    "                replace=workclass_replacement,\n",
    "            ),\n",
    "        ),\n",
    "        (\n",
    "            \"replacing_marital_status\",\n",
    "            ReplaceValues(\n",
    "                variable=marital_status, search=marital_search, replace=marital_replace\n",
    "            ),\n",
    "        ),\n",
    "        # ==============Applying one hot encoder =============\n",
    "        (\"Ohe\", CustomOneHotEncoder()),\n",
    "        \n",
    "        # ==============Applying one hot encoder =============\n",
    "        #(\"Ohe\", col_transformer),\n",
    "        \n",
    "        #(\"PCA\", PCA(n_components=NUM_COMPONENTS)),\n",
    "        (\"scale\", MinMaxScaler()),\n",
    "        \n",
    "        #============== Dicision tree model =================\n",
    "        (\"Dicision tree\", RandomForestClassifier(random_state=RANDOM_STATE))\n",
    "    ]\n",
    ")\n"
   ]
  },
  {
   "cell_type": "code",
   "execution_count": null,
   "id": "f32e4b5f",
   "metadata": {
    "ExecuteTime": {
     "end_time": "2023-04-07T23:17:11.301452Z",
     "start_time": "2023-04-07T23:17:11.301452Z"
    },
    "scrolled": true
   },
   "outputs": [],
   "source": [
    "random_forest_pipe"
   ]
  },
  {
   "cell_type": "code",
   "execution_count": null,
   "id": "c7fb4f90",
   "metadata": {
    "ExecuteTime": {
     "end_time": "2023-04-07T23:17:11.309451Z",
     "start_time": "2023-04-07T23:17:11.309451Z"
    },
    "scrolled": true,
    "tags": []
   },
   "outputs": [],
   "source": [
    "# Fit\n",
    "random_forest_pipe.fit(X_train, y_train)\n",
    "\n",
    "# Make predictions\n",
    "y_pred_1 = decision_tree_pipe.predict(X_test)\n",
    "\n",
    "\n",
    "clf_report = metrics.classification_report(y_true=y_test, y_pred=y_pred_1)\n",
    "\n",
    "print(clf_report)"
   ]
  },
  {
   "cell_type": "code",
   "execution_count": null,
   "id": "635b589c",
   "metadata": {},
   "outputs": [],
   "source": []
  },
  {
   "cell_type": "code",
   "execution_count": null,
   "id": "4257c275",
   "metadata": {},
   "outputs": [],
   "source": []
  }
 ],
 "metadata": {
  "colab": {
   "provenance": []
  },
  "kernelspec": {
   "display_name": "Python 3 (ipykernel)",
   "language": "python",
   "name": "python3"
  },
  "language_info": {
   "codemirror_mode": {
    "name": "ipython",
    "version": 3
   },
   "file_extension": ".py",
   "mimetype": "text/x-python",
   "name": "python",
   "nbconvert_exporter": "python",
   "pygments_lexer": "ipython3",
   "version": "3.9.12"
  }
 },
 "nbformat": 4,
 "nbformat_minor": 5
}
